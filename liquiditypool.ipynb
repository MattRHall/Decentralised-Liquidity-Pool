{
 "cells": [
  {
   "cell_type": "code",
   "execution_count": 105,
   "metadata": {},
   "outputs": [],
   "source": [
    "import copy"
   ]
  },
  {
   "cell_type": "code",
   "execution_count": 319,
   "metadata": {},
   "outputs": [],
   "source": [
    "class LiquidityPool():\n",
    "\n",
    "    def __init__(self, year_interest_rate = 36.5):\n",
    "        \"\"\" Creates liquidity pool \"\"\"\n",
    "\n",
    "        self.year_interest_rate = year_interest_rate\n",
    "\n",
    "        # 3x variables to keep track of\n",
    "        self.lenders = {}\n",
    "        self.borrowers = {}\n",
    "        self.liquidity_pool_lenders = 0\n",
    "        self.liquidity_pool_borrows = 0\n",
    "        self.interest_rate_factor = 1\n",
    "\n",
    "        self.time_stamp = 0\n",
    "\n",
    "        # 3x variable purely for debugging purposes\n",
    "        self.interest_checker = 0\n",
    "        self.USDC_add_checker = 0\n",
    "        self.USDC_remove_checker = 0\n",
    "\n",
    "\n",
    "    def deposit(self, user_name, USDC_amount, time_gap):\n",
    "        \"\"\" User deposits USDC amount into liquidity pool with time_gap since last transaction \"\"\"\n",
    "        # Update time stamp, interest_rate factor, and liquidity pool\n",
    "        self.time_stamp += time_gap\n",
    "        self.interest_rate_factor_update(time_gap)\n",
    "        self.liquidity_pool_update(time_gap, USDC_amount, 0)\n",
    "\n",
    "        # Create new user if one does not exist\n",
    "        if user_name not in self.lenders:\n",
    "            self.lenders[user_name] = {\"LP_tokens\":0, \"LP_factor\":0}\n",
    "        \n",
    "        # Update a users token, and their LP_factor\n",
    "        temp_start_balance = copy.deepcopy(self.lenders[user_name]) # ONLY FOR DEBUGGING\n",
    "        self.lenders[user_name][\"LP_factor\"] = ((USDC_amount / self.interest_rate_factor) +\n",
    "                                            self.lenders[user_name][\"LP_factor\"] * self.lenders[user_name][\"LP_tokens\"]) / (USDC_amount + self.lenders[user_name][\"LP_tokens\"]) \n",
    "        self.lenders[user_name][\"LP_tokens\"] += USDC_amount\n",
    "\n",
    "        # ONLY FOR DEBUGGING\n",
    "        print(f'{user_name}, Deposit (USDC): {USDC_amount}, (Prior: {temp_start_balance}, Now: {self.lenders[user_name]})') \n",
    "        self.USDC_add_checker += USDC_amount\n",
    "\n",
    "\n",
    "    def withdraw(self, user_name, token_amount, time_gap):\n",
    "        \"\"\" User withdraws a certain amount of LP tokens with time_gap since last transaction\"\"\"\n",
    "        # Update time stamp, interest_rate factor\n",
    "        self.time_stamp += time_gap\n",
    "        self.interest_rate_factor_update(time_gap)\n",
    "\n",
    "        # Calculate how much USDC to return and update lenders\n",
    "        temp_start_balance = self.lenders[user_name] # ONLY FOR DEBUGGING\n",
    "        USDC_amount = token_amount * self.lenders[user_name][\"LP_factor\"] * self.interest_rate_factor\n",
    "        self.lenders[user_name][\"LP_tokens\"] -= token_amount\n",
    "\n",
    "        # Update liquidity pool for amount taken out (principal + interest)\n",
    "        self.liquidity_pool_update(time_gap, 0, USDC_amount)\n",
    "\n",
    "        # Remove user if now empty\n",
    "        if self.lenders[user_name][\"LP_tokens\"] == 0:\n",
    "            self.lenders.pop(user_name)\n",
    "\n",
    "        # ONLY FOR DEMBUGGING\n",
    "        print(f'Withdraw (USDC): {USDC_amount}, (Prior: {temp_start_balance}, Now: {self.lenders.get(user_name,0)})')\n",
    "        self.USDC_remove_checker += USDC_amount\n",
    "\n",
    "    def borrow(self, user_name, USDC_amount, time_gap):\n",
    "        \"\"\" User borrowers a certain amount of USDC at a specific time_gap since last transaction \"\"\"\n",
    "        # Update time stamp, interest rate factor, and liquidity pool (we only update for inflows / outflows from lenders)\n",
    "        self.time_stamp += time_gap\n",
    "        self.interest_rate_factor_update(time_gap)\n",
    "        self.liquidity_pool_update(time_gap, 0, 0)\n",
    "\n",
    "        # Create borrower loan in ledger, and update borrow amount for that specific borrower\n",
    "        if user_name not in self.borrowers:\n",
    "            self.borrowers[user_name] = {\"borrow_amount\":0, \"loans\":[]}\n",
    "        self.borrowers[user_name][\"loans\"].append([USDC_amount, self.time_stamp])\n",
    "        self.borrowers[user_name][\"borrow_amount\"] += USDC_amount\n",
    "        self.liquidity_pool_borrows += USDC_amount\n",
    "\n",
    "        # ONLY FOR DEBUGGING\n",
    "        print(f'Borrow (USDC): {USDC_amount}, {user_name} Loans: {self.borrowers[user_name]})') \n",
    "\n",
    "    def repay(self, user_name, USDC_amount, loan_number, time_gap):\n",
    "        \"\"\" User repays a certain amount of USDC at a specific time_gap since last transaction \"\"\"\n",
    "        # Update time stamp, interest rate factor, and liquidity pool (we only update for inflows / outflows from lenders)\n",
    "        self.time_stamp += time_gap\n",
    "        self.interest_rate_factor_update(time_gap)\n",
    "        self.liquidity_pool_update(time_gap, 0, 0)\n",
    "\n",
    "        # Calculate the interest earnt so far on that specific loan\n",
    "        interest = self.interest_income_calculator(self.time_stamp - self.borrowers[user_name][\"loans\"][loan_number][1], self.borrowers[user_name][\"loans\"][loan_number][0])\n",
    "        temp_loan_balance = copy.deepcopy(self.borrowers[user_name][\"loans\"]) # Only for debugging\n",
    "\n",
    "        if USDC_amount == \"all\":\n",
    "            # Reduce borrowing amount and borrower ledger by principal, calculate how much USDC they have to pay. Remove that loan.\n",
    "            self.liquidity_pool_borrows -= self.borrowers[user_name][\"loans\"][loan_number][0]\n",
    "            self.borrowers[user_name][\"borrow_amount\"] -= self.borrowers[user_name][\"loans\"][loan_number][0]\n",
    "            print(f'{user_name} needs to pay {self.borrowers[user_name][\"loans\"][loan_number][0]} principal + interest {interest} to cancel loan {loan_number}')\n",
    "            self.borrowers[user_name][\"loans\"].pop(loan_number)\n",
    "        else:\n",
    "            # Reduce liquidity pool by USDC amount. Update the amount outstanding on the loan.\n",
    "            self.liquidity_pool_borrows -= USDC_amount\n",
    "            self.borrowers[user_name][\"borrow_amount\"] -= USDC_amount\n",
    "            self.borrowers[user_name][\"loans\"][loan_number][0] *= (1-(USDC_amount/(self.borrowers[user_name][\"loans\"][loan_number] + interest)))\n",
    "\n",
    "        # ONLY FOR DEBUGGING\n",
    "        print(f'{user_name}, Loans Before: {temp_loan_balance}, Loans After: {self.borrowers[user_name]})') \n",
    "\n",
    "\n",
    "    def interest_income_calculator(self, time_gap, amount):\n",
    "        \"\"\" Calculate interest earn't on specific amount in a given time gap \"\"\"\n",
    "        return amount * (time_gap / 31536000) * (self.year_interest_rate / 100)\n",
    "\n",
    "\n",
    "    def liquidity_pool_update(self, time_gap, inflow, outflow):\n",
    "        \"\"\" Update the liquidity pool for interest, outflows and inflows \"\"\"\n",
    "        interest = self.interest_income_calculator(time_gap, self.liquidity_pool_borrows)\n",
    "        self.interest_checker += interest\n",
    "        self.liquidity_pool_lenders = self.liquidity_pool_lenders + inflow - outflow + interest\n",
    "\n",
    "\n",
    "    def interest_rate_factor_update(self, time_gap):\n",
    "        \"\"\" Update the interest rate factor since the last transaction \"\"\"\n",
    "        if self.liquidity_pool_borrows != 0:\n",
    "            self.interest_rate_factor = self.interest_rate_factor * (1+ (time_gap / 31536000) * (self.year_interest_rate / 100) * (self.liquidity_pool_borrows / self.liquidity_pool_lenders))\n",
    "\n",
    "# Only thing to work out is how to apportion the interest on borrowers side. Should we update all of them every time a transaction is made? makes the most sense?\n"
   ]
  },
  {
   "cell_type": "code",
   "execution_count": 320,
   "metadata": {},
   "outputs": [],
   "source": [
    "lp = LiquidityPool()"
   ]
  },
  {
   "cell_type": "markdown",
   "metadata": {},
   "source": [
    "# Journey  (1 borrower / 1 lender)\n",
    "Matthew deposits 2 amounts to begin. Ben borrows 800 for 1 day. Matthew withdraws 10 days later. Matthew earns 0.8 interest as expected, Ben pays 800 principal and 0.8 interest."
   ]
  },
  {
   "cell_type": "code",
   "execution_count": 321,
   "metadata": {},
   "outputs": [
    {
     "name": "stdout",
     "output_type": "stream",
     "text": [
      "Matthew, Deposit (USDC): 400, (Prior: {'LP_tokens': 0, 'LP_factor': 0}, Now: {'LP_tokens': 400, 'LP_factor': 1.0})\n"
     ]
    }
   ],
   "source": [
    "# Matthew deposits 400 USDC to start\n",
    "lp.deposit(\"Matthew\", 400, 0)"
   ]
  },
  {
   "cell_type": "code",
   "execution_count": 322,
   "metadata": {},
   "outputs": [
    {
     "name": "stdout",
     "output_type": "stream",
     "text": [
      "Matthew, Deposit (USDC): 400, (Prior: {'LP_tokens': 400, 'LP_factor': 1.0}, Now: {'LP_tokens': 800, 'LP_factor': 1.0})\n"
     ]
    }
   ],
   "source": [
    "# Matthew deposits 400 USDC a day later\n",
    "lp.deposit(\"Matthew\", 400, 86400)"
   ]
  },
  {
   "cell_type": "code",
   "execution_count": 323,
   "metadata": {},
   "outputs": [
    {
     "name": "stdout",
     "output_type": "stream",
     "text": [
      "Borrow (USDC): 800, Ben Loans: {'borrow_amount': 800, 'loans': [[800, 172800]]})\n"
     ]
    }
   ],
   "source": [
    "# Ben Borrows 800 USDC a day later\n",
    "lp.borrow(\"Ben\", 800, 86400)"
   ]
  },
  {
   "cell_type": "code",
   "execution_count": 324,
   "metadata": {},
   "outputs": [
    {
     "name": "stdout",
     "output_type": "stream",
     "text": [
      "Ben needs to pay 800 principal + interest 0.7999999999999999 to cancel loan 0\n",
      "Ben, Loans Before: [[800, 172800]], Loans After: {'borrow_amount': 0, 'loans': []})\n"
     ]
    }
   ],
   "source": [
    "# Ben repays loan a day later (clearly charged 0.1% interest)\n",
    "lp.repay(\"Ben\", \"all\", 0, 86400)"
   ]
  },
  {
   "cell_type": "code",
   "execution_count": 325,
   "metadata": {},
   "outputs": [
    {
     "name": "stdout",
     "output_type": "stream",
     "text": [
      "Withdraw (USDC): 800.8, (Prior: {'LP_tokens': 0, 'LP_factor': 1.0}, Now: 0)\n"
     ]
    }
   ],
   "source": [
    "# Matthew withdraws all tokens 10 days later\n",
    "lp.withdraw(\"Matthew\", 800, 86400*10)"
   ]
  },
  {
   "cell_type": "code",
   "execution_count": 326,
   "metadata": {},
   "outputs": [
    {
     "name": "stdout",
     "output_type": "stream",
     "text": [
      "Lenders {}\n",
      "Borrowers {'Ben': {'borrow_amount': 0, 'loans': []}}\n",
      "Liquidity Pool Lenders 0.0\n",
      "Liquidity Pool Borrowers 0\n",
      "Interest checker 0.7999999999999999\n",
      "USDC add checker 800\n",
      "USDC remove checker 800.8\n"
     ]
    }
   ],
   "source": [
    "print(f'Lenders {lp.lenders}')\n",
    "print(f'Borrowers {lp.borrowers}')\n",
    "print(f'Liquidity Pool Lenders {lp.liquidity_pool_lenders}')\n",
    "print(f'Liquidity Pool Borrowers {lp.liquidity_pool_borrows}')\n",
    "print(f'Interest checker {lp.interest_checker}')\n",
    "print(f'USDC add checker {lp.USDC_add_checker}')\n",
    "print(f'USDC remove checker {lp.USDC_remove_checker}')"
   ]
  },
  {
   "cell_type": "markdown",
   "metadata": {},
   "source": [
    "# Journey 2 (2 borrowers / 1 lenders)\n",
    "Matthew and Khibar both deposit at different times. Khibar half of what Matthew does. Therefore interest should be less for Khibar. Notice how Matthew gets twice the interest Khibar does."
   ]
  },
  {
   "cell_type": "code",
   "execution_count": 327,
   "metadata": {},
   "outputs": [],
   "source": [
    "lp = LiquidityPool()"
   ]
  },
  {
   "cell_type": "code",
   "execution_count": 328,
   "metadata": {},
   "outputs": [
    {
     "name": "stdout",
     "output_type": "stream",
     "text": [
      "Matthew, Deposit (USDC): 400, (Prior: {'LP_tokens': 0, 'LP_factor': 0}, Now: {'LP_tokens': 400, 'LP_factor': 1.0})\n"
     ]
    }
   ],
   "source": [
    "# Matthew deposits 400 USDC to start.\n",
    "lp.deposit(\"Matthew\", 400, 0)"
   ]
  },
  {
   "cell_type": "code",
   "execution_count": 329,
   "metadata": {},
   "outputs": [
    {
     "name": "stdout",
     "output_type": "stream",
     "text": [
      "Khibar, Deposit (USDC): 200, (Prior: {'LP_tokens': 0, 'LP_factor': 0}, Now: {'LP_tokens': 200, 'LP_factor': 1.0})\n"
     ]
    }
   ],
   "source": [
    "# Khibar deposits 200 USDC a day later.\n",
    "lp.deposit(\"Khibar\", 200, 86400)"
   ]
  },
  {
   "cell_type": "code",
   "execution_count": 330,
   "metadata": {},
   "outputs": [
    {
     "name": "stdout",
     "output_type": "stream",
     "text": [
      "Borrow (USDC): 600, Ben Loans: {'borrow_amount': 600, 'loans': [[600, 172800]]})\n"
     ]
    }
   ],
   "source": [
    "# Ben Borrows 600 USDC a day later\n",
    "lp.borrow(\"Ben\", 600, 86400)"
   ]
  },
  {
   "cell_type": "code",
   "execution_count": 331,
   "metadata": {},
   "outputs": [
    {
     "name": "stdout",
     "output_type": "stream",
     "text": [
      "Ben needs to pay 600 principal + interest 0.6 to cancel loan 0\n",
      "Ben, Loans Before: [[600, 172800]], Loans After: {'borrow_amount': 0, 'loans': []})\n"
     ]
    }
   ],
   "source": [
    "# Ben repays loan a day later (clearly charged 0.1% interest)\n",
    "lp.repay(\"Ben\", \"all\", 0, 86400)"
   ]
  },
  {
   "cell_type": "code",
   "execution_count": 332,
   "metadata": {},
   "outputs": [
    {
     "name": "stdout",
     "output_type": "stream",
     "text": [
      "Withdraw (USDC): 400.4, (Prior: {'LP_tokens': 0, 'LP_factor': 1.0}, Now: 0)\n"
     ]
    }
   ],
   "source": [
    "# Matthew withdraws all tokens 10 days later\n",
    "lp.withdraw(\"Matthew\", 400, 86400*10)"
   ]
  },
  {
   "cell_type": "code",
   "execution_count": 333,
   "metadata": {},
   "outputs": [
    {
     "name": "stdout",
     "output_type": "stream",
     "text": [
      "Withdraw (USDC): 200.2, (Prior: {'LP_tokens': 0, 'LP_factor': 1.0}, Now: 0)\n"
     ]
    }
   ],
   "source": [
    "# Matthew withdraws all tokens 10 days later\n",
    "lp.withdraw(\"Khibar\", 200, 86400*10)"
   ]
  },
  {
   "cell_type": "code",
   "execution_count": 334,
   "metadata": {},
   "outputs": [
    {
     "name": "stdout",
     "output_type": "stream",
     "text": [
      "Lenders {}\n",
      "Borrowers {'Ben': {'borrow_amount': 0, 'loans': []}}\n",
      "Liquidity Pool Lenders 5.684341886080802e-14\n",
      "Liquidity Pool Borrowers 0\n",
      "Interest checker 0.6\n",
      "USDC add checker 600\n",
      "USDC remove checker 600.5999999999999\n"
     ]
    }
   ],
   "source": [
    "print(f'Lenders {lp.lenders}')\n",
    "print(f'Borrowers {lp.borrowers}')\n",
    "print(f'Liquidity Pool Lenders {lp.liquidity_pool_lenders}')\n",
    "print(f'Liquidity Pool Borrowers {lp.liquidity_pool_borrows}')\n",
    "print(f'Interest checker {lp.interest_checker}')\n",
    "print(f'USDC add checker {lp.USDC_add_checker}')\n",
    "print(f'USDC remove checker {lp.USDC_remove_checker}')"
   ]
  },
  {
   "cell_type": "markdown",
   "metadata": {},
   "source": [
    "# Journey 2 (2 borrowers / 2 lenders)\n",
    "In this scenario Matthew deposits, a loan is taken out, and then Khibar deposits. As a result Matthew should earn a higher portion of interest. Matthew first deposits 500, and Ben takes out a loan of 500 a day later. A a day after this Khibar enters the pool with a deposit of 500. This means Matthew should have earnt a whole day of interest (0.5) before Khibar enters the pool. In the end Matthew gets 0.75 interest (0.5 + 0.25) and Khibar gets 0.25. All as expected."
   ]
  },
  {
   "cell_type": "code",
   "execution_count": 335,
   "metadata": {},
   "outputs": [],
   "source": [
    "lp = LiquidityPool()"
   ]
  },
  {
   "cell_type": "code",
   "execution_count": 336,
   "metadata": {},
   "outputs": [
    {
     "name": "stdout",
     "output_type": "stream",
     "text": [
      "Matthew, Deposit (USDC): 500, (Prior: {'LP_tokens': 0, 'LP_factor': 0}, Now: {'LP_tokens': 500, 'LP_factor': 1.0})\n"
     ]
    }
   ],
   "source": [
    "# Matthew deposits 500 USDC to start.\n",
    "lp.deposit(\"Matthew\", 500, 0)"
   ]
  },
  {
   "cell_type": "code",
   "execution_count": 337,
   "metadata": {},
   "outputs": [
    {
     "name": "stdout",
     "output_type": "stream",
     "text": [
      "Borrow (USDC): 500, Ben Loans: {'borrow_amount': 500, 'loans': [[500, 86400]]})\n"
     ]
    }
   ],
   "source": [
    "# Ben borrows 500 a day later\n",
    "lp.borrow(\"Ben\", 500, 86400)"
   ]
  },
  {
   "cell_type": "code",
   "execution_count": 338,
   "metadata": {},
   "outputs": [
    {
     "name": "stdout",
     "output_type": "stream",
     "text": [
      "Khibar, Deposit (USDC): 500, (Prior: {'LP_tokens': 0, 'LP_factor': 0}, Now: {'LP_tokens': 500, 'LP_factor': 0.999000999000999})\n"
     ]
    }
   ],
   "source": [
    "# Khibar deposits 500 a day later\n",
    "lp.deposit(\"Khibar\", 500, 86400)"
   ]
  },
  {
   "cell_type": "code",
   "execution_count": 339,
   "metadata": {},
   "outputs": [
    {
     "name": "stdout",
     "output_type": "stream",
     "text": [
      "Ben needs to pay 500 principal + interest 0.9999999999999999 to cancel loan 0\n",
      "Ben, Loans Before: [[500, 86400]], Loans After: {'borrow_amount': 0, 'loans': []})\n"
     ]
    }
   ],
   "source": [
    "# Ben repaysborrows 500 a day later (so had it 2 days in total)\n",
    "lp.repay(\"Ben\", \"all\", 0, 86400)"
   ]
  },
  {
   "cell_type": "code",
   "execution_count": 340,
   "metadata": {},
   "outputs": [
    {
     "name": "stdout",
     "output_type": "stream",
     "text": [
      "Withdraw (USDC): 500.75012493753115, (Prior: {'LP_tokens': 0, 'LP_factor': 1.0}, Now: 0)\n"
     ]
    }
   ],
   "source": [
    "# Matthew withdraws 10 days later\n",
    "lp.withdraw(\"Matthew\", 500, 86400*10)"
   ]
  },
  {
   "cell_type": "code",
   "execution_count": 341,
   "metadata": {},
   "outputs": [
    {
     "name": "stdout",
     "output_type": "stream",
     "text": [
      "Withdraw (USDC): 500.2498750624687, (Prior: {'LP_tokens': 0, 'LP_factor': 0.999000999000999}, Now: 0)\n"
     ]
    }
   ],
   "source": [
    "# Khibar withdraws 10 days later\n",
    "lp.withdraw(\"Khibar\", 500, 86400*10)"
   ]
  },
  {
   "cell_type": "code",
   "execution_count": 342,
   "metadata": {},
   "outputs": [
    {
     "name": "stdout",
     "output_type": "stream",
     "text": [
      "Lenders {}\n",
      "Borrowers {'Ben': {'borrow_amount': 0, 'loans': []}}\n",
      "Liquidity Pool Lenders 1.7053025658242404e-13\n",
      "Liquidity Pool Borrowers 0\n",
      "Interest checker 0.9999999999999999\n",
      "USDC add checker 1000\n",
      "USDC remove checker 1000.9999999999998\n"
     ]
    }
   ],
   "source": [
    "print(f'Lenders {lp.lenders}')\n",
    "print(f'Borrowers {lp.borrowers}')\n",
    "print(f'Liquidity Pool Lenders {lp.liquidity_pool_lenders}')\n",
    "print(f'Liquidity Pool Borrowers {lp.liquidity_pool_borrows}')\n",
    "print(f'Interest checker {lp.interest_checker}')\n",
    "print(f'USDC add checker {lp.USDC_add_checker}')\n",
    "print(f'USDC remove checker {lp.USDC_remove_checker}')"
   ]
  },
  {
   "cell_type": "markdown",
   "metadata": {},
   "source": [
    "# Journey 3 (1 borrower / 1 lender - multiple borrows)\n",
    "Matthew deposits 500. Ben borrows 250 a day later. Then 250 another day later. He repays one loan a day after, and another loan a day after that. Given both loans have been borrowed for 2 days the interest should be the same."
   ]
  },
  {
   "cell_type": "code",
   "execution_count": 343,
   "metadata": {},
   "outputs": [],
   "source": [
    "lp = LiquidityPool()"
   ]
  },
  {
   "cell_type": "code",
   "execution_count": 344,
   "metadata": {},
   "outputs": [
    {
     "name": "stdout",
     "output_type": "stream",
     "text": [
      "Matthew, Deposit (USDC): 500, (Prior: {'LP_tokens': 0, 'LP_factor': 0}, Now: {'LP_tokens': 500, 'LP_factor': 1.0})\n"
     ]
    }
   ],
   "source": [
    "# Matthew deposits 500 USDC to start.\n",
    "lp.deposit(\"Matthew\", 500, 0)"
   ]
  },
  {
   "cell_type": "code",
   "execution_count": 345,
   "metadata": {},
   "outputs": [
    {
     "name": "stdout",
     "output_type": "stream",
     "text": [
      "Borrow (USDC): 250, Ben Loans: {'borrow_amount': 250, 'loans': [[250, 86400]]})\n"
     ]
    }
   ],
   "source": [
    "# Ben borrows 500 a day later\n",
    "lp.borrow(\"Ben\", 250, 86400)"
   ]
  },
  {
   "cell_type": "code",
   "execution_count": 346,
   "metadata": {},
   "outputs": [
    {
     "name": "stdout",
     "output_type": "stream",
     "text": [
      "Borrow (USDC): 250, Ben Loans: {'borrow_amount': 500, 'loans': [[250, 86400], [250, 172800]]})\n"
     ]
    }
   ],
   "source": [
    "# Ben borrows 500 a day later\n",
    "lp.borrow(\"Ben\", 250, 86400)"
   ]
  },
  {
   "cell_type": "code",
   "execution_count": 347,
   "metadata": {},
   "outputs": [
    {
     "name": "stdout",
     "output_type": "stream",
     "text": [
      "Ben needs to pay 250 principal + interest 0.49999999999999994 to cancel loan 0\n",
      "Ben, Loans Before: [[250, 86400], [250, 172800]], Loans After: {'borrow_amount': 250, 'loans': [[250, 172800]]})\n"
     ]
    }
   ],
   "source": [
    "# Ben repaysborrows 500 a day later (so had it 2 days in total)\n",
    "lp.repay(\"Ben\", \"all\", 0, 86400)"
   ]
  },
  {
   "cell_type": "code",
   "execution_count": 348,
   "metadata": {},
   "outputs": [
    {
     "name": "stdout",
     "output_type": "stream",
     "text": [
      "Ben needs to pay 250 principal + interest 0.49999999999999994 to cancel loan 0\n",
      "Ben, Loans Before: [[250, 172800]], Loans After: {'borrow_amount': 0, 'loans': []})\n"
     ]
    }
   ],
   "source": [
    "# Ben repaysborrows 500 a day later (so had it 2 days in total)\n",
    "lp.repay(\"Ben\", \"all\", 0, 86400)"
   ]
  },
  {
   "cell_type": "code",
   "execution_count": 349,
   "metadata": {},
   "outputs": [
    {
     "name": "stdout",
     "output_type": "stream",
     "text": [
      "Withdraw (USDC): 500.9999999999999, (Prior: {'LP_tokens': 0, 'LP_factor': 1.0}, Now: 0)\n"
     ]
    }
   ],
   "source": [
    "# Matthew deposits 500 USDC to start.\n",
    "lp.withdraw(\"Matthew\", 500, 0)"
   ]
  },
  {
   "cell_type": "code",
   "execution_count": 318,
   "metadata": {},
   "outputs": [
    {
     "name": "stdout",
     "output_type": "stream",
     "text": [
      "Lenders {}\n",
      "Borrowers {'Ben': {'borrow_amount': 0, 'loans': []}}\n",
      "Liquidity Pool Lenders 1.1368683772161603e-13\n",
      "Liquidity Pool Borrowers 0\n",
      "Interest checker 0.9999999999999999\n",
      "USDC add checker 500\n",
      "USDC remove checker 500.9999999999999\n"
     ]
    }
   ],
   "source": [
    "print(f'Lenders {lp.lenders}')\n",
    "print(f'Borrowers {lp.borrowers}')\n",
    "print(f'Liquidity Pool Lenders {lp.liquidity_pool_lenders}')\n",
    "print(f'Liquidity Pool Borrowers {lp.liquidity_pool_borrows}')\n",
    "print(f'Interest checker {lp.interest_checker}')\n",
    "print(f'USDC add checker {lp.USDC_add_checker}')\n",
    "print(f'USDC remove checker {lp.USDC_remove_checker}')"
   ]
  },
  {
   "cell_type": "code",
   "execution_count": null,
   "metadata": {},
   "outputs": [],
   "source": []
  },
  {
   "cell_type": "code",
   "execution_count": null,
   "metadata": {},
   "outputs": [],
   "source": []
  },
  {
   "cell_type": "code",
   "execution_count": null,
   "metadata": {},
   "outputs": [],
   "source": []
  },
  {
   "cell_type": "code",
   "execution_count": null,
   "metadata": {},
   "outputs": [],
   "source": []
  },
  {
   "cell_type": "code",
   "execution_count": null,
   "metadata": {},
   "outputs": [],
   "source": []
  },
  {
   "cell_type": "code",
   "execution_count": null,
   "metadata": {},
   "outputs": [],
   "source": []
  }
 ],
 "metadata": {
  "interpreter": {
   "hash": "b3ba2566441a7c06988d0923437866b63cedc61552a5af99d1f4fb67d367b25f"
  },
  "kernelspec": {
   "display_name": "Python 3.8.8 64-bit ('base': conda)",
   "language": "python",
   "name": "python3"
  },
  "language_info": {
   "codemirror_mode": {
    "name": "ipython",
    "version": 3
   },
   "file_extension": ".py",
   "mimetype": "text/x-python",
   "name": "python",
   "nbconvert_exporter": "python",
   "pygments_lexer": "ipython3",
   "version": "3.8.8"
  },
  "orig_nbformat": 4
 },
 "nbformat": 4,
 "nbformat_minor": 2
}
